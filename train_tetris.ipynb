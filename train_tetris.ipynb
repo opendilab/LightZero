{
 "cells": [
  {
   "cell_type": "code",
   "execution_count": null,
   "metadata": {},
   "outputs": [],
   "source": [
    "try:\n",
    "    import botris\n",
    "except:\n",
    "    # botris-interface, the environment for tetris was not installed\n",
    "    print(\"botris-interface was not found, attemping install...\")\n",
    "    !pip install botris-interface==0.1.21\n",
    "\n",
    "try:\n",
    "    import lzero, ding\n",
    "except:\n",
    "    # LightZero, the repository for training was not installed\n",
    "    print(\"LightZero was not found, attemping install from relative directory...\")\n",
    "    !pip install -e ."
   ]
  },
  {
   "cell_type": "code",
   "execution_count": null,
   "metadata": {},
   "outputs": [],
   "source": [
    "from zoo.botris.config.botris_efficientzero_config import main_config, create_config, max_env_step\n",
    "from lzero.entry import train_muzero\n",
    "\n",
    "train_muzero([main_config, create_config], seed=0, model_path=main_config.policy.model_path, max_env_step=max_env_step)"
   ]
  }
 ],
 "metadata": {
  "kernelspec": {
   "display_name": ".venv",
   "language": "python",
   "name": "python3"
  },
  "language_info": {
   "codemirror_mode": {
    "name": "ipython",
    "version": 3
   },
   "file_extension": ".py",
   "mimetype": "text/x-python",
   "name": "python",
   "nbconvert_exporter": "python",
   "pygments_lexer": "ipython3",
   "version": "3.10.14"
  }
 },
 "nbformat": 4,
 "nbformat_minor": 2
}
